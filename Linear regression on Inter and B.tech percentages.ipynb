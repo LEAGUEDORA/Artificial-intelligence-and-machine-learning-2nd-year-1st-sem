{
 "cells": [
  {
   "cell_type": "markdown",
   "metadata": {},
   "source": [
    "# Predict the B.Tech Percentage of a student based on his Intermediate percentage using univariate linear regression ."
   ]
  },
  {
   "cell_type": "code",
   "execution_count": 230,
   "metadata": {},
   "outputs": [],
   "source": [
    "# Import the required packages\n",
    "import pandas as pd # for handling data in the form of tables\n",
    "import numpy as np # For handling matrix\n",
    "from sklearn.model_selection import train_test_split # For spliting the data into train and test\n",
    "from sklearn.linear_model import LinearRegression # for using the model\n",
    "from sklearn import metrics\n",
    "import matplotlib.pyplot as plt # for plotting"
   ]
  },
  {
   "cell_type": "markdown",
   "metadata": {},
   "source": [
    "## 1) Upload the data"
   ]
  },
  {
   "cell_type": "code",
   "execution_count": 231,
   "metadata": {},
   "outputs": [],
   "source": [
    "# Get the data in python environment\n",
    "stu_data=pd.read_csv(\"students_placement_data.csv\")"
   ]
  },
  {
   "cell_type": "code",
   "execution_count": 232,
   "metadata": {},
   "outputs": [
    {
     "data": {
      "text/html": [
       "<div>\n",
       "<style scoped>\n",
       "    .dataframe tbody tr th:only-of-type {\n",
       "        vertical-align: middle;\n",
       "    }\n",
       "\n",
       "    .dataframe tbody tr th {\n",
       "        vertical-align: top;\n",
       "    }\n",
       "\n",
       "    .dataframe thead th {\n",
       "        text-align: right;\n",
       "    }\n",
       "</style>\n",
       "<table border=\"1\" class=\"dataframe\">\n",
       "  <thead>\n",
       "    <tr style=\"text-align: right;\">\n",
       "      <th></th>\n",
       "      <th>Roll No</th>\n",
       "      <th>Gender</th>\n",
       "      <th>Section</th>\n",
       "      <th>SSC Percentage</th>\n",
       "      <th>inter_Diploma_percentage</th>\n",
       "      <th>B.Tech_percentage</th>\n",
       "      <th>Backlogs</th>\n",
       "      <th>registered_for_ Placement_Training</th>\n",
       "      <th>placement status</th>\n",
       "    </tr>\n",
       "  </thead>\n",
       "  <tbody>\n",
       "    <tr>\n",
       "      <th>0</th>\n",
       "      <td>1</td>\n",
       "      <td>M</td>\n",
       "      <td>A</td>\n",
       "      <td>87.3</td>\n",
       "      <td>65.3</td>\n",
       "      <td>40.00</td>\n",
       "      <td>18</td>\n",
       "      <td>NO</td>\n",
       "      <td>Not placed</td>\n",
       "    </tr>\n",
       "    <tr>\n",
       "      <th>1</th>\n",
       "      <td>2</td>\n",
       "      <td>F</td>\n",
       "      <td>A</td>\n",
       "      <td>89.0</td>\n",
       "      <td>92.4</td>\n",
       "      <td>71.45</td>\n",
       "      <td>0</td>\n",
       "      <td>yes</td>\n",
       "      <td>Placed</td>\n",
       "    </tr>\n",
       "    <tr>\n",
       "      <th>2</th>\n",
       "      <td>3</td>\n",
       "      <td>F</td>\n",
       "      <td>A</td>\n",
       "      <td>67.0</td>\n",
       "      <td>68.0</td>\n",
       "      <td>45.26</td>\n",
       "      <td>13</td>\n",
       "      <td>yes</td>\n",
       "      <td>Not placed</td>\n",
       "    </tr>\n",
       "    <tr>\n",
       "      <th>3</th>\n",
       "      <td>4</td>\n",
       "      <td>M</td>\n",
       "      <td>A</td>\n",
       "      <td>71.0</td>\n",
       "      <td>70.4</td>\n",
       "      <td>36.47</td>\n",
       "      <td>17</td>\n",
       "      <td>yes</td>\n",
       "      <td>Not placed</td>\n",
       "    </tr>\n",
       "    <tr>\n",
       "      <th>4</th>\n",
       "      <td>5</td>\n",
       "      <td>M</td>\n",
       "      <td>A</td>\n",
       "      <td>67.0</td>\n",
       "      <td>65.5</td>\n",
       "      <td>42.52</td>\n",
       "      <td>17</td>\n",
       "      <td>yes</td>\n",
       "      <td>Not placed</td>\n",
       "    </tr>\n",
       "  </tbody>\n",
       "</table>\n",
       "</div>"
      ],
      "text/plain": [
       "   Roll No Gender Section  SSC Percentage  inter_Diploma_percentage  \\\n",
       "0        1      M       A            87.3                      65.3   \n",
       "1        2      F       A            89.0                      92.4   \n",
       "2        3      F       A            67.0                      68.0   \n",
       "3        4      M       A            71.0                      70.4   \n",
       "4        5      M       A            67.0                      65.5   \n",
       "\n",
       "   B.Tech_percentage  Backlogs registered_for_ Placement_Training  \\\n",
       "0              40.00        18                                 NO   \n",
       "1              71.45         0                                yes   \n",
       "2              45.26        13                                yes   \n",
       "3              36.47        17                                yes   \n",
       "4              42.52        17                                yes   \n",
       "\n",
       "  placement status  \n",
       "0       Not placed  \n",
       "1           Placed  \n",
       "2       Not placed  \n",
       "3       Not placed  \n",
       "4       Not placed  "
      ]
     },
     "execution_count": 232,
     "metadata": {},
     "output_type": "execute_result"
    }
   ],
   "source": [
    "stu_data.head()"
   ]
  },
  {
   "cell_type": "markdown",
   "metadata": {},
   "source": [
    "## 2) Let's do some preliminary analysis.\n",
    "Find the relation between Intermediate and B.Tech percentage using a simple scatter plot using matplotlib."
   ]
  },
  {
   "cell_type": "code",
   "execution_count": 233,
   "metadata": {},
   "outputs": [
    {
     "data": {
      "text/plain": [
       "<matplotlib.axes._subplots.AxesSubplot at 0x17d60463748>"
      ]
     },
     "execution_count": 233,
     "metadata": {},
     "output_type": "execute_result"
    },
    {
     "data": {
      "image/png": "[encoded data removed]",
      "text/plain": [
       "<Figure size 432x288 with 1 Axes>"
      ]
     },
     "metadata": {
      "needs_background": "light"
     },
     "output_type": "display_data"
    }
   ],
   "source": [
    "stu_data.plot(x='inter_Diploma_percentage',y='B.Tech_percentage',style='o')"
   ]
  },
  {
   "cell_type": "markdown",
   "metadata": {},
   "source": [
    "### From the above graph, it is obvious that this is a possitive correlation between Intermediate and B.Tech percentage. \n",
    "+ve correlation: As, X increases, Y also increases"
   ]
  },
  {
   "cell_type": "markdown",
   "metadata": {},
   "source": [
    "## 3) Now, convert the data into form understandable to machine learning model"
   ]
  },
  {
   "cell_type": "markdown",
   "metadata": {},
   "source": [
    "    Note that, the column values are in the form of series. But a model expect the values in the form of numpy array. So, we should convert the data into [n,1] array( n rows and 1 column )\n",
    "    \n",
    "    Now trying to reshape with (-1, 1) . We have provided column as 1 but rows as unknown . So we get result new shape as 2 dimentions."
   ]
  },
  {
   "cell_type": "code",
   "execution_count": 234,
   "metadata": {},
   "outputs": [],
   "source": [
    "x=stu_data[\"inter_Diploma_percentage\"].values.reshape(-1,1)\n",
    "y=stu_data[\"B.Tech_percentage\"].values.reshape(-1,1)"
   ]
  },
  {
   "cell_type": "code",
   "execution_count": 235,
   "metadata": {},
   "outputs": [
    {
     "name": "stdout",
     "output_type": "stream",
     "text": [
      "(117, 1)\n",
      "(117, 1)\n"
     ]
    }
   ],
   "source": [
    "print(x.shape)\n",
    "print(y.shape)"
   ]
  },
  {
   "cell_type": "markdown",
   "metadata": {},
   "source": [
    "## 4) Divide the data into train and test"
   ]
  },
  {
   "cell_type": "code",
   "execution_count": 236,
   "metadata": {},
   "outputs": [],
   "source": [
    "# Now divide the data into train and test. Here we are keeping 20% as our test set\n",
    "X_train,X_test,Y_train,Y_test=train_test_split(x,y,test_size=0.2,random_state=0)\n",
    "\n",
    "# random state controls the shuffling applied to the data before applying the split. "
   ]
  },
  {
   "cell_type": "code",
   "execution_count": 237,
   "metadata": {},
   "outputs": [
    {
     "name": "stdout",
     "output_type": "stream",
     "text": [
      "X_train- Training data (features) size is  (93, 1)\n",
      "X_test- Test data (features) size is  (24, 1)\n",
      "Y_train- Training data (labels) size is  (93, 1)\n",
      "Y_test- Test data (labels) size is  (24, 1)\n"
     ]
    }
   ],
   "source": [
    "# Printing X_train,X_test,Y_train,Y_test\n",
    "print(\"X_train- Training data (features) size is \",X_train.shape)\n",
    "print(\"X_test- Test data (features) size is \",X_test.shape)\n",
    "print(\"Y_train- Training data (labels) size is \",Y_train.shape)\n",
    "print(\"Y_test- Test data (labels) size is \",Y_test.shape)"
   ]
  },
  {
   "cell_type": "markdown",
   "metadata": {},
   "source": [
    "## 5) Apply the model on training dataset"
   ]
  },
  {
   "cell_type": "code",
   "execution_count": 238,
   "metadata": {},
   "outputs": [
    {
     "data": {
      "text/plain": [
       "LinearRegression(copy_X=True, fit_intercept=True, n_jobs=None,\n",
       "         normalize=False)"
      ]
     },
     "execution_count": 238,
     "metadata": {},
     "output_type": "execute_result"
    }
   ],
   "source": [
    "model=LinearRegression()\n",
    "model.fit(X_train,Y_train) \n",
    "# Using \"fit\" function data is given as input to the linear regressor and model is buit (m and c is calculated)."
   ]
  },
  {
   "cell_type": "markdown",
   "metadata": {},
   "source": [
    "## 6) Get the parameters"
   ]
  },
  {
   "cell_type": "markdown",
   "metadata": {},
   "source": [
    "### In y=mx+c, we know that c is intercept and m is slope."
   ]
  },
  {
   "cell_type": "code",
   "execution_count": 239,
   "metadata": {},
   "outputs": [
    {
     "name": "stdout",
     "output_type": "stream",
     "text": [
      "[-2.91074436]\n"
     ]
    }
   ],
   "source": [
    "print(model.intercept_)  # This is our 'intercept'"
   ]
  },
  {
   "cell_type": "code",
   "execution_count": 240,
   "metadata": {},
   "outputs": [
    {
     "name": "stdout",
     "output_type": "stream",
     "text": [
      "[[0.81041292]]\n"
     ]
    }
   ],
   "source": [
    "print(model.coef_) # This is our 'slope'"
   ]
  },
  {
   "cell_type": "markdown",
   "metadata": {},
   "source": [
    "## 7) Now we apply the model on testset."
   ]
  },
  {
   "cell_type": "code",
   "execution_count": 241,
   "metadata": {},
   "outputs": [
    {
     "data": {
      "text/plain": [
       "array([[58.92376179],\n",
       "       [73.8353596 ],\n",
       "       [46.60548533],\n",
       "       [61.84124832],\n",
       "       [61.35500056],\n",
       "       [41.01363615],\n",
       "       [62.73270253],\n",
       "       [60.78771152],\n",
       "       [64.35352838],\n",
       "       [68.89184076],\n",
       "       [69.70225369],\n",
       "       [52.19733451],\n",
       "       [71.80932729],\n",
       "       [67.75726267],\n",
       "       [64.62096465],\n",
       "       [59.08584437],\n",
       "       [62.73270253],\n",
       "       [63.29999158],\n",
       "       [70.99891437],\n",
       "       [62.0033309 ],\n",
       "       [65.97435423],\n",
       "       [54.55563612],\n",
       "       [68.97288205],\n",
       "       [72.05245117]])"
      ]
     },
     "execution_count": 241,
     "metadata": {},
     "output_type": "execute_result"
    }
   ],
   "source": [
    "predicted_btech=model.predict(X_test) # Predict the weights of people in based on their heights\n",
    "predicted_btech"
   ]
  },
  {
   "cell_type": "markdown",
   "metadata": {},
   "source": [
    "## 8) Let's keep predicted B.Tech marks and Actual B.tech marks for better readability"
   ]
  },
  {
   "cell_type": "code",
   "execution_count": 242,
   "metadata": {},
   "outputs": [
    {
     "data": {
      "text/html": [
       "<div>\n",
       "<style scoped>\n",
       "    .dataframe tbody tr th:only-of-type {\n",
       "        vertical-align: middle;\n",
       "    }\n",
       "\n",
       "    .dataframe tbody tr th {\n",
       "        vertical-align: top;\n",
       "    }\n",
       "\n",
       "    .dataframe thead th {\n",
       "        text-align: right;\n",
       "    }\n",
       "</style>\n",
       "<table border=\"1\" class=\"dataframe\">\n",
       "  <thead>\n",
       "    <tr style=\"text-align: right;\">\n",
       "      <th></th>\n",
       "      <th>predicted</th>\n",
       "      <th>Actual</th>\n",
       "    </tr>\n",
       "  </thead>\n",
       "  <tbody>\n",
       "    <tr>\n",
       "      <th>0</th>\n",
       "      <td>58.923762</td>\n",
       "      <td>71.49</td>\n",
       "    </tr>\n",
       "    <tr>\n",
       "      <th>1</th>\n",
       "      <td>73.835360</td>\n",
       "      <td>81.10</td>\n",
       "    </tr>\n",
       "    <tr>\n",
       "      <th>2</th>\n",
       "      <td>46.605485</td>\n",
       "      <td>62.98</td>\n",
       "    </tr>\n",
       "    <tr>\n",
       "      <th>3</th>\n",
       "      <td>61.841248</td>\n",
       "      <td>68.70</td>\n",
       "    </tr>\n",
       "    <tr>\n",
       "      <th>4</th>\n",
       "      <td>61.355001</td>\n",
       "      <td>61.02</td>\n",
       "    </tr>\n",
       "    <tr>\n",
       "      <th>5</th>\n",
       "      <td>41.013636</td>\n",
       "      <td>60.53</td>\n",
       "    </tr>\n",
       "    <tr>\n",
       "      <th>6</th>\n",
       "      <td>62.732703</td>\n",
       "      <td>61.00</td>\n",
       "    </tr>\n",
       "    <tr>\n",
       "      <th>7</th>\n",
       "      <td>60.787712</td>\n",
       "      <td>35.84</td>\n",
       "    </tr>\n",
       "    <tr>\n",
       "      <th>8</th>\n",
       "      <td>64.353528</td>\n",
       "      <td>68.30</td>\n",
       "    </tr>\n",
       "    <tr>\n",
       "      <th>9</th>\n",
       "      <td>68.891841</td>\n",
       "      <td>69.62</td>\n",
       "    </tr>\n",
       "    <tr>\n",
       "      <th>10</th>\n",
       "      <td>69.702254</td>\n",
       "      <td>83.38</td>\n",
       "    </tr>\n",
       "    <tr>\n",
       "      <th>11</th>\n",
       "      <td>52.197335</td>\n",
       "      <td>45.26</td>\n",
       "    </tr>\n",
       "    <tr>\n",
       "      <th>12</th>\n",
       "      <td>71.809327</td>\n",
       "      <td>78.00</td>\n",
       "    </tr>\n",
       "    <tr>\n",
       "      <th>13</th>\n",
       "      <td>67.757263</td>\n",
       "      <td>54.18</td>\n",
       "    </tr>\n",
       "    <tr>\n",
       "      <th>14</th>\n",
       "      <td>64.620965</td>\n",
       "      <td>65.53</td>\n",
       "    </tr>\n",
       "    <tr>\n",
       "      <th>15</th>\n",
       "      <td>59.085844</td>\n",
       "      <td>52.00</td>\n",
       "    </tr>\n",
       "    <tr>\n",
       "      <th>16</th>\n",
       "      <td>62.732703</td>\n",
       "      <td>51.00</td>\n",
       "    </tr>\n",
       "    <tr>\n",
       "      <th>17</th>\n",
       "      <td>63.299992</td>\n",
       "      <td>73.13</td>\n",
       "    </tr>\n",
       "    <tr>\n",
       "      <th>18</th>\n",
       "      <td>70.998914</td>\n",
       "      <td>74.30</td>\n",
       "    </tr>\n",
       "    <tr>\n",
       "      <th>19</th>\n",
       "      <td>62.003331</td>\n",
       "      <td>63.41</td>\n",
       "    </tr>\n",
       "    <tr>\n",
       "      <th>20</th>\n",
       "      <td>65.974354</td>\n",
       "      <td>70.01</td>\n",
       "    </tr>\n",
       "    <tr>\n",
       "      <th>21</th>\n",
       "      <td>54.555636</td>\n",
       "      <td>55.70</td>\n",
       "    </tr>\n",
       "    <tr>\n",
       "      <th>22</th>\n",
       "      <td>68.972882</td>\n",
       "      <td>74.96</td>\n",
       "    </tr>\n",
       "    <tr>\n",
       "      <th>23</th>\n",
       "      <td>72.052451</td>\n",
       "      <td>70.85</td>\n",
       "    </tr>\n",
       "  </tbody>\n",
       "</table>\n",
       "</div>"
      ],
      "text/plain": [
       "    predicted  Actual\n",
       "0   58.923762   71.49\n",
       "1   73.835360   81.10\n",
       "2   46.605485   62.98\n",
       "3   61.841248   68.70\n",
       "4   61.355001   61.02\n",
       "5   41.013636   60.53\n",
       "6   62.732703   61.00\n",
       "7   60.787712   35.84\n",
       "8   64.353528   68.30\n",
       "9   68.891841   69.62\n",
       "10  69.702254   83.38\n",
       "11  52.197335   45.26\n",
       "12  71.809327   78.00\n",
       "13  67.757263   54.18\n",
       "14  64.620965   65.53\n",
       "15  59.085844   52.00\n",
       "16  62.732703   51.00\n",
       "17  63.299992   73.13\n",
       "18  70.998914   74.30\n",
       "19  62.003331   63.41\n",
       "20  65.974354   70.01\n",
       "21  54.555636   55.70\n",
       "22  68.972882   74.96\n",
       "23  72.052451   70.85"
      ]
     },
     "execution_count": 242,
     "metadata": {},
     "output_type": "execute_result"
    }
   ],
   "source": [
    "#  flatten() function is used to get a copy of an given array collapsed into one dimension. \n",
    "Actual_predicted=pd.DataFrame({'predicted':predicted_btech.flatten(), 'Actual':Y_test.flatten()})\n",
    "Actual_predicted"
   ]
  },
  {
   "cell_type": "markdown",
   "metadata": {},
   "source": [
    "## 9) Let's see the performance of model visually\n",
    "Red points are actual B.tech score of students. And Blue line is model's approximation of B.tech percentage based on intermediate percentage "
   ]
  },
  {
   "cell_type": "code",
   "execution_count": 243,
   "metadata": {},
   "outputs": [
    {
     "data": {
      "text/plain": [
       "Text(0, 0.5, 'B.Tech')"
      ]
     },
     "execution_count": 243,
     "metadata": {},
     "output_type": "execute_result"
    },
    {
     "data": {
      "image/png": "[encoded data removed]",
      "text/plain": [
       "<Figure size 432x288 with 1 Axes>"
      ]
     },
     "metadata": {
      "needs_background": "light"
     },
     "output_type": "display_data"
    }
   ],
   "source": [
    "plt.scatter(X_test,Y_test,color='red') # Original values are plotted in red\n",
    "plt.plot(X_test,predicted_btech, color='blue') # Predicted values are plotted in blue\n",
    "plt.xlabel(\"Inter\") # Name of X-axis\n",
    "plt.ylabel(\"B.Tech\") # Name of Y-axis"
   ]
  },
  {
   "cell_type": "markdown",
   "metadata": {},
   "source": [
    "## 10) Check the performance of the model"
   ]
  },
  {
   "cell_type": "code",
   "execution_count": 244,
   "metadata": {},
   "outputs": [
    {
     "name": "stdout",
     "output_type": "stream",
     "text": [
      "Mean absolute error: 7.553687276785887\n",
      "Mean squared error: 98.30444865156255\n",
      "R square 0.22134048430771647\n",
      "Root Mean squared error: 9.91485999152598\n"
     ]
    }
   ],
   "source": [
    "print('Mean absolute error:',metrics.mean_absolute_error(Y_test, predicted_btech))\n",
    "print('Mean squared error:',metrics.mean_squared_error(Y_test, predicted_btech))\n",
    "print(\"R square\",metrics.r2_score(Y_test, predicted_btech))\n",
    "print('Root Mean squared error:',np.sqrt(metrics.mean_squared_error(Y_test, predicted_btech)))"
   ]
  },
  {
   "cell_type": "markdown",
   "metadata": {},
   "source": [
    "## 11) Say a student got 95% in Intermediate. How much B.Tech percentage he/she scores in B.Tech?"
   ]
  },
  {
   "cell_type": "code",
   "execution_count": 245,
   "metadata": {},
   "outputs": [
    {
     "name": "stdout",
     "output_type": "stream",
     "text": [
      "[[74.07848348]]\n"
     ]
    }
   ],
   "source": [
    "a=np.array(95) # Let's predict the weight of a person given his height as 188 cm\n",
    "print(model.predict(a.reshape(1, -1)))"
   ]
  },
  {
   "cell_type": "markdown",
   "metadata": {},
   "source": [
    "## So, he/she may score approximately 74% in B.Tech \n",
    "(Note the answer may vary because of random picking of rows in train and test set)"
   ]
  }
 ],
 "metadata": {
  "kernelspec": {
   "display_name": "Python 3",
   "language": "python",
   "name": "python3"
  },
  "language_info": {
   "codemirror_mode": {
    "name": "ipython",
    "version": 3
   },
   "file_extension": ".py",
   "mimetype": "text/x-python",
   "name": "python",
   "nbconvert_exporter": "python",
   "pygments_lexer": "ipython3",
   "version": "3.7.3"
  }
 },
 "nbformat": 4,
 "nbformat_minor": 2
}
